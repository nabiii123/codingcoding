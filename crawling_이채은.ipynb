{
  "nbformat": 4,
  "nbformat_minor": 0,
  "metadata": {
    "colab": {
      "name": "crawling.ipynb",
      "provenance": [],
      "collapsed_sections": [],
      "authorship_tag": "ABX9TyMBfpIgUYwBQ1swZxvoDapM",
      "include_colab_link": true
    },
    "kernelspec": {
      "name": "python3",
      "display_name": "Python 3"
    },
    "language_info": {
      "name": "python"
    }
  },
  "cells": [
    {
      "cell_type": "markdown",
      "metadata": {
        "id": "view-in-github",
        "colab_type": "text"
      },
      "source": [
        "<a href=\"https://colab.research.google.com/github/nabiii123/codingcoding/blob/main/crawling_%EC%9D%B4%EC%B1%84%EC%9D%80.ipynb\" target=\"_parent\"><img src=\"https://colab.research.google.com/assets/colab-badge.svg\" alt=\"Open In Colab\"/></a>"
      ]
    },
    {
      "cell_type": "markdown",
      "metadata": {
        "id": "KIhbPqZO-OUR"
      },
      "source": [
        "먼저 html알아보기 https://youtu.be/9GkFI1ovBbU"
      ]
    },
    {
      "cell_type": "markdown",
      "metadata": {
        "id": "mO3hezy0_Hfo"
      },
      "source": [
        "request, beautifulsoup, selenium"
      ]
    },
    {
      "cell_type": "code",
      "metadata": {
        "id": "tuhRN5nHJezW"
      },
      "source": [
        "#실습하면서 썼던거\n",
        "\n",
        "import requests as rq\n",
        "\n",
        "url=\"https://search.naver.com/search.naver?where=nexearch&sm=top_hty&fbm=1&ie=utf8&query=%EB%82%98%EB%B9%84\"\n",
        "resp=rq.get(url)\n",
        "\n",
        "resp"
      ],
      "execution_count": null,
      "outputs": []
    },
    {
      "cell_type": "code",
      "metadata": {
        "id": "tX3axtyHiMvJ",
        "colab": {
          "base_uri": "https://localhost:8080/"
        },
        "outputId": "7114e970-282f-41e3-ea5d-d2e2707b84ca"
      },
      "source": [
        "#request\n",
        "\n",
        "import requests as rq\n",
        "\n",
        "url='https://search.naver.com/search.naver?where=nexearch&sm=top_hty&fbm=0&ie=utf8&query=%EC%9D%B4%EC%B1%84%EC%9D%80'\n",
        "resp=rq.get(url)\n",
        "\n",
        "resp #잘 연결이 되었구만.."
      ],
      "execution_count": null,
      "outputs": [
        {
          "output_type": "execute_result",
          "data": {
            "text/plain": [
              "<Response [200]>"
            ]
          },
          "metadata": {},
          "execution_count": 70
        }
      ]
    },
    {
      "cell_type": "markdown",
      "metadata": {
        "id": "rejlOC4m9rvy"
      },
      "source": [
        "beautifulsoap"
      ]
    },
    {
      "cell_type": "code",
      "metadata": {
        "id": "DOhGltPKLegp"
      },
      "source": [
        "#실습하면서 작성한거\n",
        "\n",
        "import requests as rq\n",
        "from bs4 import BeautifulSoup as bs\n",
        "\n",
        "url=\"https://search.naver.com/search.naver?where=nexearch&sm=top_hty&fbm=1&ie=utf8&query=%EB%82%98%EB%B9%84\"\n",
        "resp=rq.get(url)\n",
        "\n",
        "soup=bs(resp.text,'html.parser')\n",
        "raw_data=soup.select_one('ul.list_news')\n",
        "titles=raw_data.select('li > div.news_wrap.api_ani_send > div > a')\n",
        "\n",
        "titles\n",
        "\n",
        "for title in titles:\n",
        "  print(title.text)"
      ],
      "execution_count": null,
      "outputs": []
    },
    {
      "cell_type": "code",
      "metadata": {
        "id": "oo6d7WofiOHy"
      },
      "source": [
        "#예제1\n",
        "import requests as rq\n",
        "from bs4 import BeautifulSoup as bs\n",
        "\n",
        "url='https://search.naver.com/search.naver?where=news&sm=tab_jum&query=%E3%85%87'\n",
        "resp=rq.get(url)\n",
        "\n",
        "soup=bs(resp.text,'html.parser')\n",
        "\n",
        "ul = soup.select_one('ul.list_news')\n",
        "titles = ul.select('li > div > div > a')\n",
        "for title in titles:\n",
        "    print(title.get_text())\n",
        "\n",
        "print(titles)\n",
        "\n"
      ],
      "execution_count": null,
      "outputs": []
    },
    {
      "cell_type": "markdown",
      "metadata": {
        "id": "nt89XYfYcZDC"
      },
      "source": [
        "여기까지 5주차 !\n",
        "\n",
        "---\n",
        "\n",
        "6주차"
      ]
    },
    {
      "cell_type": "markdown",
      "metadata": {
        "id": "aYZeAJ53dF1D"
      },
      "source": [
        "리스트- 인덱스"
      ]
    },
    {
      "cell_type": "code",
      "metadata": {
        "id": "clapXDEPdH6V"
      },
      "source": [
        "list_a=[1,2,3,4,'채은']\n",
        "list_a[0]"
      ],
      "execution_count": null,
      "outputs": []
    },
    {
      "cell_type": "markdown",
      "metadata": {
        "id": "0-lbh9xJdqxC"
      },
      "source": [
        "리스트 속의 리스트"
      ]
    },
    {
      "cell_type": "code",
      "metadata": {
        "id": "pb8iEO_wdp9B"
      },
      "source": [
        "list_a=[[1,9,21,'채은'],[1,9,19,'정민']]\n",
        "list_a[1][3]"
      ],
      "execution_count": null,
      "outputs": []
    },
    {
      "cell_type": "markdown",
      "metadata": {
        "id": "o4HPXtnReMcm"
      },
      "source": [
        "그렇다면 활용\n",
        "-> 1학년 9반 19번 이정민을 아래 리스트를 이용해서 출력되게 해보자"
      ]
    },
    {
      "cell_type": "code",
      "metadata": {
        "id": "te6_qM5UeUan"
      },
      "source": [
        "list_a=[[1,9,21,'이채은'],[1,9,19,'이정민']]"
      ],
      "execution_count": null,
      "outputs": []
    },
    {
      "cell_type": "markdown",
      "metadata": {
        "id": "NUX1wfDDezpi"
      },
      "source": [
        "저번 주에 만들었던 코드에 있는 리스트와 for 반복문을 다시 보기"
      ]
    },
    {
      "cell_type": "code",
      "metadata": {
        "id": "Q-JhTLtMe9-u"
      },
      "source": [
        "import requests as rq\n",
        "from bs4 import BeautifulSoup as bs\n",
        "\n",
        "url=\"https://search.naver.com/search.naver?where=nexearch&sm=top_hty&fbm=1&ie=utf8&query=%EB%82%98%EB%B9%84\"\n",
        "resp=rq.get(url)\n",
        "\n",
        "soup=bs(resp.text,'html.parser')\n",
        "raw_data=soup.select_one('ul.list_news')\n",
        "titles=raw_data.select('li > div.news_wrap.api_ani_send > div > a')\n",
        "\n",
        "titles\n",
        "\n",
        "for title in titles:\n",
        "  print(title.text)"
      ],
      "execution_count": null,
      "outputs": []
    },
    {
      "cell_type": "markdown",
      "metadata": {
        "id": "As3iLbSLf2Tb"
      },
      "source": [
        "엑셀로 결과 내보내기\n",
        "\n",
        "---\n",
        "openpyxl와 pandas, numpy가 새로 필요함\n"
      ]
    },
    {
      "cell_type": "code",
      "metadata": {
        "id": "OX0bvh-q9PV9"
      },
      "source": [
        "#openpyxl의 기본\n",
        "!pip install openpyxl\n",
        "\n",
        "import pandas as pd\n",
        "import numpy as np\n",
        "import requests as rq\n",
        "from bs4 import BeautifulSoup as bs\n",
        "\n",
        "url='https://search.naver.com/search.naver?where=news&sm=tab_jum&query=%E3%85%87'\n",
        "resp=rq.get(url)\n",
        "\n",
        "soup=bs(resp.text,'html.parser')\n",
        "ul = soup.select_one('ul.list_news')\n",
        "titles = ul.select('li > div > div > a')\n",
        "list_title=[]\n",
        "for title in titles:\n",
        "    print(title.text)\n",
        "    list_title.append(title.text)\n",
        "\n",
        "print(list_title)\n",
        "\n",
        "df=pd.DataFrame(list_title)\n",
        "df.to_excel('test.xlsx')"
      ],
      "execution_count": null,
      "outputs": []
    },
    {
      "cell_type": "code",
      "metadata": {
        "id": "CtJzptNJ9NKk"
      },
      "source": [
        "#데이터프레임\n",
        "\n",
        "!pip install openpyxl\n",
        "\n",
        "import pandas as pd\n",
        "import numpy as np\n",
        "\n",
        "a=[[1,2],[4,3],[1,2],[4,2]]\n",
        "df=pd.DataFrame(a)\n",
        "\n",
        "print(df)"
      ],
      "execution_count": null,
      "outputs": []
    },
    {
      "cell_type": "markdown",
      "metadata": {
        "id": "roOPGzBM_Ep7"
      },
      "source": [
        "그런데, 우리 위 코드에는 불편한 점이 있다. 우리는 앞으로 티비프로그램별로 정보를 예쁘게 저장하고 싶은데 우리가 가진 기술(리스트)만으로는 힘들다. 그래서 데이터 프레임을 더 예쁘게 만들 수 있는 '딕셔너리'에 대해서 알아볼 것임\n",
        "\n",
        "https://youtu.be/HraOg7W3VAM"
      ]
    },
    {
      "cell_type": "code",
      "metadata": {
        "id": "Vb8K2zfk_qnU"
      },
      "source": [
        "#딕셔너리 기본\n",
        "\n",
        "dictionary_a={\n",
        "    '아이유':['스물셋','팔레트','삐삐','Blueming'],\n",
        "    '지드래곤':['삐딱하게','heartbreaker','무제']\n",
        "}\n",
        "\n",
        "print(dictionary_a['지드래곤'][2])"
      ],
      "execution_count": null,
      "outputs": []
    },
    {
      "cell_type": "code",
      "metadata": {
        "id": "E_7SCamEXhcy"
      },
      "source": [
        "!pip install openpyxl\n",
        "\n",
        "import pandas as pd\n",
        "import numpy as np\n",
        "\n",
        "dictionary_a={\n",
        "    '아이유':['스물셋','팔레트','삐삐','Blueming'],\n",
        "    '지드래곤':['삐딱하게','heartbreaker','무제','black']\n",
        "}\n",
        "\n",
        "df=pd.DataFrame(dictionary_a)\n",
        "df.to_excel('test.xlsx')"
      ],
      "execution_count": null,
      "outputs": []
    },
    {
      "cell_type": "markdown",
      "metadata": {
        "id": "q01NUgY96vTd"
      },
      "source": [
        "# 지금까지 배운 것 총동원해서 실습\n",
        "엑셀에 정리된 검색어들을 불러와서 자동으로 검색하고, 결과를 자동으로 저장하는 프로그램 만들기"
      ]
    },
    {
      "cell_type": "code",
      "metadata": {
        "id": "f-WjPsfmpBsr"
      },
      "source": [
        "#멜론에서 가수별로 대표곡 자동으로 검색해서 저장하는 프로그램\n",
        "\n",
        "!pip install openpyxl\n",
        "\n",
        "import pandas as pd\n",
        "import numpy as np\n",
        "import requests as rq\n",
        "from bs4 import BeautifulSoup as bs\n",
        "\n",
        "df = pd.read_excel('/content/song_test.xlsx')\n",
        "list_ = df.values.tolist()\n",
        "\n",
        "dictionary={}\n",
        "\n",
        "for i in list_:\n",
        "  for u in i:\n",
        "    url='https://www.melon.com/search/total/index.htm?q='+u\n",
        "    resp=rq.get(url, headers={\"User-Agent\": \"Mozilla/5.0 (Windows NT 10.0; Win64; x64) AppleWebKit/537.36 (KHTML, like Gecko) Chrome/93.0.4577.82 Safari/537.36\"})\n",
        "    soup=bs(resp.text,'html.parser')\n",
        "    div = soup.select_one('#frm_searchArtist')\n",
        "    titles = div.select('div > div > a.fc_gray')\n",
        "    list_title=[]\n",
        "    for title in titles:\n",
        "      list_title.append(title.text)\n",
        "    dictionary[u]=list_title\n",
        "\n",
        "df = pd.DataFrame.from_dict(dictionary, orient='index').T\n",
        "df.to_excel('test.xlsx')"
      ],
      "execution_count": null,
      "outputs": []
    },
    {
      "cell_type": "markdown",
      "metadata": {
        "id": "_-MFhv6WlbEa"
      },
      "source": [
        "멜론은 기본 파이썬 request사용자의 접근을 막아놓았음 그래서 다른 경로로 위장하는 코드를 한줄 추가해주기로함"
      ]
    },
    {
      "cell_type": "code",
      "metadata": {
        "id": "5hZuo1lNn8jV"
      },
      "source": [
        "resp=rq.get(url, headers={\"User-Agent\": \"Mozilla/5.0 (Windows NT 10.0; Win64; x64) AppleWebKit/537.36 (KHTML, like Gecko) Chrome/93.0.4577.82 Safari/537.36\"})"
      ],
      "execution_count": null,
      "outputs": []
    },
    {
      "cell_type": "markdown",
      "metadata": {
        "id": "Y4oIY4Tsgcsg"
      },
      "source": [
        "# selenium"
      ]
    },
    {
      "cell_type": "code",
      "metadata": {
        "id": "ihsGOQ93dcWN"
      },
      "source": [
        "#selenium의 시작\n",
        "\n",
        "!pip install Selenium\n",
        "!apt-get update\n",
        "!apt install chromium-chromedriver\n",
        "\n",
        "from selenium import webdriver\n",
        "\n",
        "##################################################################\n",
        "chrome_options = webdriver.ChromeOptions()\n",
        "chrome_options.add_argument('--headless')\n",
        "chrome_options.add_argument('--no-sandbox')\n",
        "chrome_options.add_argument('--disable-dev-shm-usage')\n",
        "wd = webdriver.Chrome('chromedriver',chrome_options=chrome_options)\n",
        "###################################################################\n",
        "\n",
        "wd.get('https://naver.com')\n",
        "\n",
        "print(wd.title)\n",
        "print(wd.current_url)"
      ],
      "execution_count": null,
      "outputs": []
    },
    {
      "cell_type": "code",
      "metadata": {
        "id": "r03Etf5xv7Nw"
      },
      "source": [
        "#리스트 목록에 있는 것들 자동으로 검색하고 게시글 글들을 가져오기\n",
        "\n",
        "!pip install Selenium\n",
        "!apt-get update\n",
        "!apt install chromium-chromedriver\n",
        "\n",
        "from selenium import webdriver\n",
        "\n",
        "chrome_options = webdriver.ChromeOptions()\n",
        "chrome_options.add_argument('--headless')\n",
        "chrome_options.add_argument('--no-sandbox')\n",
        "chrome_options.add_argument('--disable-dev-shm-usage')\n",
        "wd = webdriver.Chrome('chromedriver',chrome_options=chrome_options)\n",
        "\n",
        "wd.get('https://www.youtube.com/')\n",
        "\n",
        "input=wd.find_element_by_name(\"search_query\")\n",
        "\n",
        "input.send_keys(input('아이디'))\n",
        "password_input.send_keys(input('비번?'))"
      ],
      "execution_count": null,
      "outputs": []
    },
    {
      "cell_type": "code",
      "metadata": {
        "id": "OGL43TP7nlUE"
      },
      "source": [
        "#bs예제2 // 인데 시간 남으면 하기..\n",
        "\n",
        "import requests\n",
        "from bs4 import BeautifulSoup\n",
        "\n",
        "url = 'https://kin.naver.com/search/list.nhn?query=%ED%8C%8C%EC%9D%B4%EC%8D%AC'\n",
        "\n",
        "response = requests.get(url)\n",
        "\n",
        "if response.status_code == 200:\n",
        "    html = response.text\n",
        "    soup = BeautifulSoup(html, 'html.parser')\n",
        "    ul = soup.select_one('ul.basic1')\n",
        "    titles = ul.select('li > dl > dt > a')\n",
        "    for title in titles:\n",
        "        print(title.text)\n",
        "else : \n",
        "    print(response.status_code)"
      ],
      "execution_count": null,
      "outputs": []
    }
  ]
}